{
 "cells": [
  {
   "cell_type": "markdown",
   "metadata": {},
   "source": [
    "<font size=\"20px\" family=\"Arial\">\n",
    "    <br>\n",
    "Sankey – Floweaver Tutorial\n",
    "    <br>\n",
    "</font>\n",
    "\n",
    "<i>An introduction to creating pretty sankey diagrams in Python.</i>"
   ]
  },
  {
   "cell_type": "markdown",
   "metadata": {
    "ExecuteTime": {
     "end_time": "2019-02-14T00:04:31.468147Z",
     "start_time": "2019-02-14T00:04:31.441398Z"
    }
   },
   "source": [
    "# Create with `ipysankeywidget`\n",
    "\n",
    "`\n",
    "from ipysankeywidget import SankeyWidget\n",
    "`"
   ]
  },
  {
   "cell_type": "code",
   "execution_count": 7,
   "metadata": {
    "ExecuteTime": {
     "end_time": "2019-03-05T22:25:02.290944Z",
     "start_time": "2019-03-05T22:25:02.285778Z"
    }
   },
   "outputs": [],
   "source": [
    "from ipywidgets import Layout\n",
    "from ipysankeywidget import SankeyWidget"
   ]
  },
  {
   "cell_type": "code",
   "execution_count": 8,
   "metadata": {
    "ExecuteTime": {
     "end_time": "2019-03-05T22:25:02.746441Z",
     "start_time": "2019-03-05T22:25:02.742886Z"
    }
   },
   "outputs": [],
   "source": [
    "# Do you need to install?\n",
    "#!pip install ipysankeywidget\n",
    "#! jupyter nbextension enable --py --sys-prefix ipysankeywidget"
   ]
  },
  {
   "cell_type": "code",
   "execution_count": 9,
   "metadata": {
    "ExecuteTime": {
     "end_time": "2019-03-05T22:25:03.230564Z",
     "start_time": "2019-03-05T22:25:03.212482Z"
    }
   },
   "outputs": [
    {
     "data": {
      "application/vnd.jupyter.widget-view+json": {
       "model_id": "0b243065e79941338e741d8f9e181e86",
       "version_major": 2,
       "version_minor": 0
      },
      "text/plain": [
       "SankeyWidget(links=[{'source': 'Start', 'target': 'Mid', 'value': 2}, {'source': 'Mid', 'target': 'Mid_2A', 'v…"
      ]
     },
     "metadata": {},
     "output_type": "display_data"
    }
   ],
   "source": [
    "links = [\n",
    "    {'source': 'Start', 'target': 'Mid', 'value': 2},\n",
    "    {'source': 'Mid', 'target': 'Mid_2A', 'value': 1},\n",
    "    {'source': 'Mid', 'target': 'Mid_2B', 'value': 1},\n",
    "    {'source': 'Mid_2A', 'target': 'End', 'value': 1},\n",
    "    {'source': 'Mid_2B', 'target': 'End', 'value': 1},\n",
    "]\n",
    "w = SankeyWidget(links=links, margins=dict(top=0, bottom=0, left=50, right=100))\n",
    "#Display the widget:\n",
    "w"
   ]
  },
  {
   "cell_type": "code",
   "execution_count": 10,
   "metadata": {
    "ExecuteTime": {
     "end_time": "2019-03-05T22:25:03.947932Z",
     "start_time": "2019-03-05T22:25:03.941981Z"
    }
   },
   "outputs": [],
   "source": [
    "w.links[0]['value'] = 1\n",
    "w.send_state()"
   ]
  },
  {
   "cell_type": "markdown",
   "metadata": {},
   "source": [
    "## Adjust with Functions"
   ]
  },
  {
   "cell_type": "code",
   "execution_count": 11,
   "metadata": {
    "ExecuteTime": {
     "end_time": "2019-03-05T22:25:17.149028Z",
     "start_time": "2019-03-05T22:25:17.137364Z"
    }
   },
   "outputs": [],
   "source": [
    "layout = Layout(width=\"800\", height=\"300\")\n",
    "def sankey(margin_top=10, **value):\n",
    "    \"\"\"Show SankeyWidget with default values for size and margins\"\"\"\n",
    "    return SankeyWidget(layout=layout,\n",
    "                        margins=dict(top=margin_top, bottom=0, left=30, right=60),\n",
    "                        **value)\n"
   ]
  },
  {
   "cell_type": "code",
   "execution_count": 12,
   "metadata": {
    "ExecuteTime": {
     "end_time": "2019-03-05T22:25:17.764311Z",
     "start_time": "2019-03-05T22:25:17.752897Z"
    }
   },
   "outputs": [
    {
     "data": {
      "application/vnd.jupyter.widget-view+json": {
       "model_id": "c81e3894d9374c89851ccf0266a36090",
       "version_major": 2,
       "version_minor": 0
      },
      "text/plain": [
       "SankeyWidget(layout=Layout(height='300', width='800'), links=[{'source': 'A', 'target': 'B', 'value': 3, 'type…"
      ]
     },
     "metadata": {},
     "output_type": "display_data"
    }
   ],
   "source": [
    "links = [\n",
    "    {'source': 'A', 'target': 'B', 'value': 3, 'type': 'x'},\n",
    "    {'source': 'B', 'target': 'C', 'value': 2, 'type': 'y'},\n",
    "    {'source': 'B', 'target': 'D', 'value': 1, 'type': 'z'},\n",
    "]\n",
    "sankey(links=links)\n",
    "\n"
   ]
  },
  {
   "cell_type": "code",
   "execution_count": 15,
   "metadata": {
    "ExecuteTime": {
     "end_time": "2019-03-05T22:25:31.133132Z",
     "start_time": "2019-03-05T22:25:31.114070Z"
    }
   },
   "outputs": [
    {
     "data": {
      "application/vnd.jupyter.widget-view+json": {
       "model_id": "e5bc2e3218924f8ba1e6b002da1bc85d",
       "version_major": 2,
       "version_minor": 0
      },
      "text/plain": [
       "SankeyWidget(align_link_types=True, layout=Layout(height='300', width='800'), links=[{'source': 'A1', 'target'…"
      ]
     },
     "metadata": {},
     "output_type": "display_data"
    }
   ],
   "source": [
    "# source = Left\n",
    "# target = Right\n",
    "# Value = Width\n",
    "# Type = Class?\n",
    "links = [\n",
    "    {'source': 'A1', 'target': 'B', 'value': 1.5, 'type': 'x'},\n",
    "    {'source': 'A1', 'target': 'B', 'value': 0.5, 'type': 'y'},\n",
    "    {'source': 'A2', 'target': 'B', 'value': 0.5, 'type': 'x'},\n",
    "    {'source': 'A2', 'target': 'B', 'value': 1.5, 'type': 'y'},\n",
    "    {'source': 'B',  'target': 'C', 'value': 2.0, 'type': 'x'},\n",
    "    {'source': 'B',  'target': 'C', 'value': 2.0, 'type': 'y'},\n",
    "]\n",
    "sankey(links=links, nodes=[],align_link_types=True)"
   ]
  },
  {
   "cell_type": "code",
   "execution_count": 16,
   "metadata": {
    "ExecuteTime": {
     "end_time": "2019-03-05T22:25:31.935205Z",
     "start_time": "2019-03-05T22:25:31.922292Z"
    }
   },
   "outputs": [
    {
     "data": {
      "application/vnd.jupyter.widget-view+json": {
       "model_id": "a0721e1ce3084273a3cb0e17480b6320",
       "version_major": 2,
       "version_minor": 0
      },
      "text/plain": [
       "SankeyWidget(align_link_types=True, layout=Layout(height='300', width='800'), links=[{'source': 'A1', 'target'…"
      ]
     },
     "metadata": {},
     "output_type": "display_data"
    }
   ],
   "source": [
    "order = [\n",
    "    ['B', 'A1'],\n",
    "    ['A2'],\n",
    "    ['C'],\n",
    "]\n",
    "sankey(links=links, align_link_types=True, order=order)\n",
    "\n"
   ]
  },
  {
   "cell_type": "code",
   "execution_count": 10,
   "metadata": {
    "ExecuteTime": {
     "end_time": "2019-02-20T21:56:09.141064Z",
     "start_time": "2019-02-20T21:56:09.124194Z"
    }
   },
   "outputs": [
    {
     "data": {
      "application/vnd.jupyter.widget-view+json": {
       "model_id": "73edaf3a6d434165b627bd13664f9087",
       "version_major": 2,
       "version_minor": 0
      },
      "text/plain": [
       "SankeyWidget(groups=[{'id': 'G', 'title': 'Group', 'nodes': ['C', 'D']}], layout=Layout(height='300', width='8…"
      ]
     },
     "metadata": {},
     "output_type": "display_data"
    }
   ],
   "source": [
    "links = [\n",
    "    {'source': 'A', 'target': 'B', 'value': 3, 'type': 'x'},\n",
    "    {'source': 'B', 'target': 'C', 'value': 2, 'type': 'y'},\n",
    "    {'source': 'B', 'target': 'D', 'value': 1, 'type': 'z'},\n",
    "]\n",
    "groups = [\n",
    "    {'id': 'G', 'title': 'Group', 'nodes': ['C', 'D']}\n",
    "]\n",
    "sankey(links=links, nodes=[], groups=groups, margin_top=30,\n",
    "       linkLabelFormat='.1f')\n"
   ]
  },
  {
   "cell_type": "code",
   "execution_count": 17,
   "metadata": {
    "ExecuteTime": {
     "end_time": "2019-03-05T22:25:57.765187Z",
     "start_time": "2019-03-05T22:25:57.760105Z"
    }
   },
   "outputs": [],
   "source": [
    "from ipywidgets import VBox, HBox, IntSlider\n",
    "\n"
   ]
  },
  {
   "cell_type": "code",
   "execution_count": 18,
   "metadata": {
    "ExecuteTime": {
     "end_time": "2019-03-05T22:25:58.353432Z",
     "start_time": "2019-03-05T22:25:58.341017Z"
    }
   },
   "outputs": [],
   "source": [
    "links = [\n",
    "    {'source': 'start', 'target': 'A', 'value': 10},\n",
    "    {'source': 'A', 'target': 'B', 'value': 10},\n",
    "    {'source': 'C', 'target': 'A', 'value': 10},\n",
    "    {'source': 'A', 'target': 'C', 'value': 10},\n",
    "]\n",
    "\n",
    "sankey = SankeyWidget(links=links)"
   ]
  },
  {
   "cell_type": "code",
   "execution_count": 19,
   "metadata": {
    "ExecuteTime": {
     "end_time": "2019-03-05T22:26:00.330829Z",
     "start_time": "2019-03-05T22:26:00.323227Z"
    }
   },
   "outputs": [],
   "source": [
    "def slider(link, i, sankey):\n",
    "    value = IntSlider(description=\"{source} → {target}\".format(**link), min=0, max=10, step=1, value=10)\n",
    "\n",
    "    def _change(change):\n",
    "        sankey.links[i][\"value\"] = value.value\n",
    "        sankey.send_state()\n",
    "    \n",
    "    value.observe(_change)\n",
    "    \n",
    "    return value\n",
    "\n"
   ]
  },
  {
   "cell_type": "code",
   "execution_count": 20,
   "metadata": {
    "ExecuteTime": {
     "end_time": "2019-03-05T22:26:02.395916Z",
     "start_time": "2019-03-05T22:26:02.328685Z"
    }
   },
   "outputs": [
    {
     "data": {
      "application/vnd.jupyter.widget-view+json": {
       "model_id": "0355bd8f7b3d4231b934b150ac5c9983",
       "version_major": 2,
       "version_minor": 0
      },
      "text/plain": [
       "HBox(children=(SankeyWidget(links=[{'source': 'start', 'target': 'A', 'value': 10}, {'source': 'A', 'target': …"
      ]
     },
     "metadata": {},
     "output_type": "display_data"
    }
   ],
   "source": [
    "sliders = [slider(link, i, sankey) for i, link in enumerate(links)]\n",
    "box = HBox(children=[sankey, VBox(children=sliders)])\n",
    "box"
   ]
  },
  {
   "cell_type": "markdown",
   "metadata": {},
   "source": [
    "## Implement with Widgets"
   ]
  },
  {
   "cell_type": "code",
   "execution_count": 21,
   "metadata": {
    "ExecuteTime": {
     "end_time": "2019-03-05T22:26:29.132088Z",
     "start_time": "2019-03-05T22:26:29.127682Z"
    }
   },
   "outputs": [],
   "source": [
    "from ipywidgets import VBox, HBox, IntSlider\n",
    "import ipywidgets as widgets"
   ]
  },
  {
   "cell_type": "code",
   "execution_count": 23,
   "metadata": {
    "ExecuteTime": {
     "end_time": "2019-03-05T22:26:33.167061Z",
     "start_time": "2019-03-05T22:26:33.138030Z"
    }
   },
   "outputs": [
    {
     "data": {
      "application/vnd.jupyter.widget-view+json": {
       "model_id": "03aa36006e394dec9c25d7d9aec3fffc",
       "version_major": 2,
       "version_minor": 0
      },
      "text/plain": [
       "SankeyWidget(groups=[{'id': 'V1', 'title': 'V1', 'nodes': ['V1_A', 'V1_B']}, {'id': 'V2', 'title': 'V2', 'node…"
      ]
     },
     "metadata": {},
     "output_type": "display_data"
    }
   ],
   "source": [
    "links = [\n",
    "    {'source': 'V1_A',\n",
    "     'target': 'V2_A', \n",
    "     'value': 3, 'type': 'Vid'},\n",
    "    \n",
    "    {'source': 'V1_A', \n",
    "     'target': 'V2_B', \n",
    "     'value': 2, 'type': 'Vid'},\n",
    "    \n",
    "    {'source': 'V1_B', \n",
    "     'target': 'V2_A',\n",
    "     'value': 1, 'type': 'Pic'},\n",
    "    \n",
    "    {'source': 'V1_B', \n",
    "     'target': 'V2_B',\n",
    "     'value': 4, 'type': 'Pic'},\n",
    "\n",
    "    {'source': 'V2_A', \n",
    "     'target': 'Winner',\n",
    "     'value': 3, 'type': 'Vid'},\n",
    "    \n",
    "    {'source': 'V2_A', \n",
    "     'target': 'Loser',\n",
    "     'value': 1, 'type': 'Pic'},\n",
    "\n",
    "    {'source': 'V2_B', \n",
    "     'target': 'Loser',\n",
    "     'value': 5, 'type': 'Pic'},\n",
    "    \n",
    "    {'source': 'V2_B', \n",
    "     'target': 'Winner',\n",
    "     'value': 1, 'type': 'Pic'},\n",
    "    \n",
    "#####\n",
    "]\n",
    "\n",
    "\n",
    "groups = [\n",
    "    {'id': 'V1', 'title': 'V1', 'nodes': ['V1_A','V1_B']},\n",
    "    {'id': 'V2', 'title': 'V2', 'nodes': ['V2_A','V2_B']},\n",
    "    {'id': 'Outcome', 'title': 'Outcome', 'nodes': ['Winner','Loser']}\n",
    "]\n",
    "\n",
    "layout = Layout(width=\"800\", height=\"300\")\n",
    "\n",
    "margins=dict(top=10, bottom=0, left=60, right=60)\n",
    "\n",
    "\n",
    "z = SankeyWidget(\n",
    "            links=links, \n",
    "             nodes=[],\n",
    "             layout = layout,\n",
    "             margins = margins,\n",
    "             groups=groups, margin_top=30,\n",
    "             linkLabelFormat='.1f')\n",
    "\n",
    "z"
   ]
  },
  {
   "cell_type": "markdown",
   "metadata": {},
   "source": [
    "# Try with Plotly\n",
    "\n",
    "Actually, don't try with plotly!"
   ]
  },
  {
   "cell_type": "code",
   "execution_count": 18,
   "metadata": {
    "ExecuteTime": {
     "end_time": "2019-02-20T21:56:18.639779Z",
     "start_time": "2019-02-20T21:56:16.687075Z"
    }
   },
   "outputs": [
    {
     "data": {
      "text/html": [
       "<script type=\"text/javascript\">window.PlotlyConfig = {MathJaxConfig: 'local'};</script><script type=\"text/javascript\">if (window.MathJax) {MathJax.Hub.Config({SVG: {font: \"STIX-Web\"}});}</script><script>requirejs.config({paths: { 'plotly': ['https://cdn.plot.ly/plotly-latest.min']},});if(!window._Plotly) {require(['plotly'],function(plotly) {window._Plotly=plotly;});}</script>"
      ],
      "text/vnd.plotly.v1+html": [
       "<script type=\"text/javascript\">window.PlotlyConfig = {MathJaxConfig: 'local'};</script><script type=\"text/javascript\">if (window.MathJax) {MathJax.Hub.Config({SVG: {font: \"STIX-Web\"}});}</script><script>requirejs.config({paths: { 'plotly': ['https://cdn.plot.ly/plotly-latest.min']},});if(!window._Plotly) {require(['plotly'],function(plotly) {window._Plotly=plotly;});}</script>"
      ]
     },
     "metadata": {},
     "output_type": "display_data"
    }
   ],
   "source": [
    "###################################\n",
    "#\n",
    "# S K I P   T H I S   M A D N E S S\n",
    "#\n",
    "###################################\n",
    "#\n",
    "# import plotly\n",
    "# import plotly.graph_objs as go\n",
    "# plotly.tools.set_config_file(world_readable=False,\n",
    "#                              sharing='private')\n",
    "# plotly.offline.init_notebook_mode(connected=True)"
   ]
  },
  {
   "cell_type": "markdown",
   "metadata": {},
   "source": [
    "# Flow Weaver!"
   ]
  },
  {
   "cell_type": "markdown",
   "metadata": {
    "ExecuteTime": {
     "end_time": "2019-02-14T01:01:52.105196Z",
     "start_time": "2019-02-14T01:01:52.094811Z"
    }
   },
   "source": [
    "https://floweaver.readthedocs.io/en/latest/tutorials/system-boundary.html"
   ]
  },
  {
   "cell_type": "code",
   "execution_count": 24,
   "metadata": {
    "ExecuteTime": {
     "end_time": "2019-03-05T22:28:07.580595Z",
     "start_time": "2019-03-05T22:28:07.577589Z"
    }
   },
   "outputs": [],
   "source": [
    "# D'YA need to install?\n",
    "#\n",
    "#!pip install floweaver"
   ]
  },
  {
   "cell_type": "code",
   "execution_count": 25,
   "metadata": {
    "ExecuteTime": {
     "end_time": "2019-03-05T22:28:10.620801Z",
     "start_time": "2019-03-05T22:28:08.134913Z"
    }
   },
   "outputs": [],
   "source": [
    "import floweaver as fw\n",
    "import pandas as pd"
   ]
  },
  {
   "cell_type": "code",
   "execution_count": 26,
   "metadata": {
    "ExecuteTime": {
     "end_time": "2019-03-05T22:28:32.188579Z",
     "start_time": "2019-03-05T22:28:32.174023Z"
    }
   },
   "outputs": [],
   "source": [
    "flows = pd.DataFrame([\n",
    "    \n",
    "        {'source': 'farm1', 'target': 'Mary', 'type': 'apples', 'value': 5},\n",
    "        {'source': 'farm1', 'target': 'James', 'type': 'apples', 'value': 3},\n",
    "        {'source': 'farm2', 'target': 'Fred', 'type': 'apples', 'value': 10},\n",
    "        {'source': 'farm2', 'target': 'Fred', 'type': 'bananas', 'value': 10},\n",
    "        {'source': 'farm2', 'target': 'Susan', 'type': 'bananas', 'value': 5},\n",
    "        {'source': 'farm3', 'target': 'Susan', 'type': 'apples', 'value': 10},\n",
    "        {'source': 'farm4', 'target': 'Susan', 'type': 'bananas', 'value': 1},\n",
    "        {'source': 'farm5', 'target': 'Susan', 'type': 'bananas', 'value': 1},\n",
    "        {'source': 'farm6', 'target': 'Susan', 'type': 'bananas', 'value': 1}\n",
    "\n",
    "])\n",
    "\n",
    "# You can use a dictionary for reverse engineering type\n",
    "#flows.to_dict('records')"
   ]
  },
  {
   "cell_type": "code",
   "execution_count": 28,
   "metadata": {
    "ExecuteTime": {
     "end_time": "2019-03-05T22:29:12.165707Z",
     "start_time": "2019-03-05T22:29:12.152099Z"
    }
   },
   "outputs": [
    {
     "data": {
      "text/html": [
       "<div>\n",
       "<style scoped>\n",
       "    .dataframe tbody tr th:only-of-type {\n",
       "        vertical-align: middle;\n",
       "    }\n",
       "\n",
       "    .dataframe tbody tr th {\n",
       "        vertical-align: top;\n",
       "    }\n",
       "\n",
       "    .dataframe thead th {\n",
       "        text-align: right;\n",
       "    }\n",
       "</style>\n",
       "<table border=\"1\" class=\"dataframe\">\n",
       "  <thead>\n",
       "    <tr style=\"text-align: right;\">\n",
       "      <th></th>\n",
       "      <th>source</th>\n",
       "      <th>target</th>\n",
       "      <th>type</th>\n",
       "      <th>value</th>\n",
       "    </tr>\n",
       "  </thead>\n",
       "  <tbody>\n",
       "    <tr>\n",
       "      <th>0</th>\n",
       "      <td>farm1</td>\n",
       "      <td>Mary</td>\n",
       "      <td>apples</td>\n",
       "      <td>5</td>\n",
       "    </tr>\n",
       "    <tr>\n",
       "      <th>1</th>\n",
       "      <td>farm1</td>\n",
       "      <td>James</td>\n",
       "      <td>apples</td>\n",
       "      <td>3</td>\n",
       "    </tr>\n",
       "    <tr>\n",
       "      <th>2</th>\n",
       "      <td>farm2</td>\n",
       "      <td>Fred</td>\n",
       "      <td>apples</td>\n",
       "      <td>10</td>\n",
       "    </tr>\n",
       "    <tr>\n",
       "      <th>3</th>\n",
       "      <td>farm2</td>\n",
       "      <td>Fred</td>\n",
       "      <td>bananas</td>\n",
       "      <td>10</td>\n",
       "    </tr>\n",
       "    <tr>\n",
       "      <th>4</th>\n",
       "      <td>farm2</td>\n",
       "      <td>Susan</td>\n",
       "      <td>bananas</td>\n",
       "      <td>5</td>\n",
       "    </tr>\n",
       "    <tr>\n",
       "      <th>5</th>\n",
       "      <td>farm3</td>\n",
       "      <td>Susan</td>\n",
       "      <td>apples</td>\n",
       "      <td>10</td>\n",
       "    </tr>\n",
       "    <tr>\n",
       "      <th>6</th>\n",
       "      <td>farm4</td>\n",
       "      <td>Susan</td>\n",
       "      <td>bananas</td>\n",
       "      <td>1</td>\n",
       "    </tr>\n",
       "    <tr>\n",
       "      <th>7</th>\n",
       "      <td>farm5</td>\n",
       "      <td>Susan</td>\n",
       "      <td>bananas</td>\n",
       "      <td>1</td>\n",
       "    </tr>\n",
       "    <tr>\n",
       "      <th>8</th>\n",
       "      <td>farm6</td>\n",
       "      <td>Susan</td>\n",
       "      <td>bananas</td>\n",
       "      <td>1</td>\n",
       "    </tr>\n",
       "  </tbody>\n",
       "</table>\n",
       "</div>"
      ],
      "text/plain": [
       "  source target     type  value\n",
       "0  farm1   Mary   apples      5\n",
       "1  farm1  James   apples      3\n",
       "2  farm2   Fred   apples     10\n",
       "3  farm2   Fred  bananas     10\n",
       "4  farm2  Susan  bananas      5\n",
       "5  farm3  Susan   apples     10\n",
       "6  farm4  Susan  bananas      1\n",
       "7  farm5  Susan  bananas      1\n",
       "8  farm6  Susan  bananas      1"
      ]
     },
     "execution_count": 28,
     "metadata": {},
     "output_type": "execute_result"
    }
   ],
   "source": [
    "# It shows up as a neat regular dataframe...\n",
    "flows"
   ]
  },
  {
   "cell_type": "code",
   "execution_count": 29,
   "metadata": {
    "ExecuteTime": {
     "end_time": "2019-03-05T22:29:25.717584Z",
     "start_time": "2019-03-05T22:29:25.712659Z"
    }
   },
   "outputs": [],
   "source": [
    "from floweaver import *\n",
    "\n",
    "# Set the default size to fit the documentation better.\n",
    "size = dict(width=570, height=300)\n",
    "\n",
    "# Define your nodes\n",
    "nodes = {\n",
    "    'farms': ProcessGroup(['farm1', 'farm2', 'farm3',\n",
    "                           'farm4', 'farm5', 'farm6']),\n",
    "    'customers': ProcessGroup(['James', 'Mary', 'Fred', 'Susan']),\n",
    "}"
   ]
  },
  {
   "cell_type": "code",
   "execution_count": 31,
   "metadata": {
    "ExecuteTime": {
     "end_time": "2019-03-05T22:29:50.035979Z",
     "start_time": "2019-03-05T22:29:50.032040Z"
    }
   },
   "outputs": [],
   "source": [
    "# Order your nodes\n",
    "ordering = [\n",
    "    ['farms'],       # put \"farms\" on the left...\n",
    "    ['customers'],   # ... and \"customers\" on the right.\n",
    "]\n",
    "\n",
    "\n",
    "# Bundle your nodes (so they show up in the same plane)\n",
    "bundles = [\n",
    "    Bundle('farms', 'customers'),\n",
    "]"
   ]
  },
  {
   "cell_type": "code",
   "execution_count": 32,
   "metadata": {
    "ExecuteTime": {
     "end_time": "2019-03-05T22:29:54.986572Z",
     "start_time": "2019-03-05T22:29:54.894007Z"
    }
   },
   "outputs": [
    {
     "data": {
      "application/vnd.jupyter.widget-view+json": {
       "model_id": "c7fcb374e759428b8bac11f2bc10902c",
       "version_major": 2,
       "version_minor": 0
      },
      "text/plain": [
       "SankeyWidget(layout=Layout(height='300', width='570'), links=[{'source': 'farms^*', 'target': 'customers^*', '…"
      ]
     },
     "metadata": {},
     "output_type": "display_data"
    }
   ],
   "source": [
    "sdd = SankeyDefinition(nodes, bundles, ordering)\n",
    "weave(sdd, flows).to_widget(**size)"
   ]
  },
  {
   "cell_type": "markdown",
   "metadata": {},
   "source": [
    "> _**That's not very useful.** What's happened? Every farm and every customer has been lumped together into one group. To get the picture we want -- like the first one, but with an \"other\" group containing farms 4, 5 and 6 -- we need to partition the groups:_"
   ]
  },
  {
   "cell_type": "code",
   "execution_count": 33,
   "metadata": {
    "ExecuteTime": {
     "end_time": "2019-03-05T22:30:23.512397Z",
     "start_time": "2019-03-05T22:30:23.391127Z"
    }
   },
   "outputs": [
    {
     "data": {
      "application/vnd.jupyter.widget-view+json": {
       "model_id": "14835094185444a7be9cbe8b875e9628",
       "version_major": 2,
       "version_minor": 0
      },
      "text/plain": [
       "SankeyWidget(groups=[{'id': 'farms', 'type': 'process', 'title': '', 'nodes': ['farms^farm1', 'farms^farm2', '…"
      ]
     },
     "metadata": {},
     "output_type": "display_data"
    }
   ],
   "source": [
    "# The first argument is the dimension name -- for now we're using\n",
    "# \"process\" to group by process ids. The second argument is a list\n",
    "# of groups.\n",
    "farms_with_other = Partition.Simple('process', [\n",
    "    'farm1', # the groups within the partition can be a single id...\n",
    "    'farm2',\n",
    "    'farm3',\n",
    "    ('Other Farms', ['farm4', 'farm5', 'farm6']),   # ... or a group\n",
    "])\n",
    "\n",
    "# This is another partition.\n",
    "customers_by_name = Partition.Simple('process', [\n",
    "    'James', 'Mary', 'Fred', 'Susan'\n",
    "])\n",
    "\n",
    "# Update the ProcessGroup nodes to use the partitions\n",
    "nodes['farms'].partition = farms_with_other\n",
    "nodes['customers'].partition = customers_by_name\n",
    "\n",
    "# New Sankey!\n",
    "weave(sdd, flows).to_widget(**size)"
   ]
  },
  {
   "cell_type": "code",
   "execution_count": 34,
   "metadata": {
    "ExecuteTime": {
     "end_time": "2019-03-05T22:30:26.388859Z",
     "start_time": "2019-03-05T22:30:26.279569Z"
    }
   },
   "outputs": [
    {
     "data": {
      "application/vnd.jupyter.widget-view+json": {
       "model_id": "901f83d9effd4b4b934e1359d6c166ed",
       "version_major": 2,
       "version_minor": 0
      },
      "text/plain": [
       "SankeyWidget(groups=[{'id': 'farms', 'type': 'process', 'title': '', 'nodes': ['farms^farm1', 'farms^farm2', '…"
      ]
     },
     "metadata": {},
     "output_type": "display_data"
    }
   ],
   "source": [
    "customers_by_gender = Partition.Simple('process', [\n",
    "    ('Men', ['Fred', 'James']), #Name yo groups...\n",
    "    ('Women', ['Susan', 'Mary']),\n",
    "])\n",
    "\n",
    "nodes['customers'].partition = customers_by_gender\n",
    "\n",
    "weave(sdd, flows).to_widget(**size).auto_save_png('quickstart_example1.png')"
   ]
  },
  {
   "cell_type": "markdown",
   "metadata": {},
   "source": [
    "> There is a better way of specifying this type of partition that doesn't involve hard-coding who's a man and who's a woman into the code -- see the later tutorial on using *dimension tables*.\n",
    "\n",
    "<br>\n",
    "<hr>\n",
    "\n",
    "## Distinguishing flow types\n",
    "\n",
    "These diagrams have lost sight of the kind of fruit that is actually being sold -- are the men buying apples, bananas or both from farm1? To show this we need to split up the flows in the diagram based on their *type*. Just like we split up the `ProcessGroups` by defining a partition of processes, we split up flows by defining a partition of flows.\n",
    "\n",
    "(While we're at it let's choose some colours that look vaguely like apples and bananas)"
   ]
  },
  {
   "cell_type": "code",
   "execution_count": 35,
   "metadata": {
    "ExecuteTime": {
     "end_time": "2019-03-05T22:31:46.106708Z",
     "start_time": "2019-03-05T22:31:45.983800Z"
    }
   },
   "outputs": [
    {
     "data": {
      "application/vnd.jupyter.widget-view+json": {
       "model_id": "3510b8000a6142ffacfd2ec013dcaf20",
       "version_major": 2,
       "version_minor": 0
      },
      "text/plain": [
       "SankeyWidget(groups=[{'id': 'farms', 'type': 'process', 'title': '', 'nodes': ['farms^farm1', 'farms^farm2', '…"
      ]
     },
     "metadata": {},
     "output_type": "display_data"
    }
   ],
   "source": [
    "# Another partition -- but this time the dimension is the \"type\"\n",
    "# column of the flows table\n",
    "fruits_by_type = Partition.Simple('type', ['apples', 'bananas'])\n",
    "\n",
    "# Set the colours for the labels in the partition.\n",
    "palette = {'apples': 'yellowgreen', 'bananas': 'orange'}\n",
    "\n",
    "# New SDD with the flow_partition set\n",
    "sdd = SankeyDefinition(nodes, bundles, ordering, \n",
    "                       flow_partition=fruits_by_type)\n",
    "\n",
    "weave(sdd, flows, palette=palette).to_widget(**size)"
   ]
  },
  {
   "cell_type": "markdown",
   "metadata": {},
   "source": [
    "<i>\n",
    "    \n",
    ">As a last step, it would be nice to label which flows are apples and which are bananas. One way to do this would be to use a legend next to the diagram, or to put labels on every flow. Here, we'll add a new layer in the middle of the diagram which temporarily groups together the different fruit types on their way from the farms to the customers. This temporary/additional grouping point is called a waypoint.\n",
    ">\n",
    ">**To add a waypoint, we need to do three things:**\n",
    "> \n",
    ">1. Define it as a node\n",
    ">2. Position it in the ordering (between farms and customers)\n",
    ">3. Add it to the bundle\n",
    "\n",
    "</i>\n"
   ]
  },
  {
   "cell_type": "code",
   "execution_count": 36,
   "metadata": {
    "ExecuteTime": {
     "end_time": "2019-03-05T22:33:42.646613Z",
     "start_time": "2019-03-05T22:33:42.503254Z"
    }
   },
   "outputs": [
    {
     "data": {
      "application/vnd.jupyter.widget-view+json": {
       "model_id": "b28169a622244c0e954ee5bb9903da14",
       "version_major": 2,
       "version_minor": 0
      },
      "text/plain": [
       "SankeyWidget(groups=[{'id': 'farms', 'type': 'process', 'title': '', 'nodes': ['farms^farm1', 'farms^farm2', '…"
      ]
     },
     "metadata": {},
     "output_type": "display_data"
    }
   ],
   "source": [
    "# 1. Define a new waypoint node\n",
    "nodes['waypoint'] = Waypoint()\n",
    "\n",
    "# 2. Update the ordering to show where the waypoint goes: in the middle\n",
    "ordering = [\n",
    "    ['farms'],\n",
    "    ['waypoint'],\n",
    "    ['customers'],\n",
    "]\n",
    "\n",
    "# 3. Update the bundle definition to send the flows via the waypoint\n",
    "bundles = [\n",
    "    Bundle('farms', 'customers', waypoints=['waypoint']),\n",
    "]\n",
    "\n",
    "# Update the SDD with the new nodes, ordering & bundles.\n",
    "sdd = SankeyDefinition(nodes, bundles, ordering, \n",
    "                       flow_partition=fruits_by_type)\n",
    "\n",
    "weave(sdd, flows, palette=palette).to_widget(**size)"
   ]
  },
  {
   "cell_type": "markdown",
   "metadata": {},
   "source": [
    "<i>\n",
    "    \n",
    ">**That's not yet very useful.** Just like above, the default for Waypoints is to group everything togeter. We need to set a partition on the waypoint to split apart apples and bananas:\n",
    "    \n",
    "</i>"
   ]
  },
  {
   "cell_type": "code",
   "execution_count": 37,
   "metadata": {
    "ExecuteTime": {
     "end_time": "2019-03-05T22:34:07.780672Z",
     "start_time": "2019-03-05T22:34:07.627257Z"
    }
   },
   "outputs": [
    {
     "data": {
      "application/vnd.jupyter.widget-view+json": {
       "model_id": "9772dc3cc8d545bdb79d7d7d60e4bf83",
       "version_major": 2,
       "version_minor": 0
      },
      "text/plain": [
       "SankeyWidget(groups=[{'id': 'farms', 'type': 'process', 'title': '', 'nodes': ['farms^farm1', 'farms^farm2', '…"
      ]
     },
     "metadata": {},
     "output_type": "display_data"
    }
   ],
   "source": [
    "# Redefine the waypoint with a partition (same one defined above)\n",
    "nodes['waypoint'] = Waypoint(fruits_by_type)\n",
    "\n",
    "weave(sdd, flows, palette=palette).to_widget(**size)"
   ]
  },
  {
   "cell_type": "markdown",
   "metadata": {},
   "source": [
    "<i>\n",
    "\n",
    ">**Summary:**\n",
    ">\n",
    ">This has demonstrated the basic usage of floweaver: defining ProcessGroups, Waypoints, Partitions, and Bundles. If you are reading the interactive version, why not go back and try out some different ways to present the data? Here are some suggestions:\n",
    ">\n",
    "> 1. Farms 1, 3 and 5 are organic. Can you change the farm Partition to show two groups, organic and non-organic?\n",
    "> 2. What happens if you remove \"farm1\" from the original definition of the farms ProcessGroup? (Hint: those apples that James and Mary are eating have to come from somewhere -- so they are shown as coming from \"elsewhere\". See later tutorial on moving the system boundary)\n",
    ">\n",
    ">If you are reading the static documentation, you can easily experiment with editing and rerunning this tutorial online using MyBinder, or download it to run on your computer from GitHub.\n",
    "\n",
    "</i>"
   ]
  },
  {
   "cell_type": "markdown",
   "metadata": {},
   "source": [
    "## Completing Floweaver Homework:"
   ]
  },
  {
   "cell_type": "code",
   "execution_count": 38,
   "metadata": {
    "ExecuteTime": {
     "end_time": "2019-03-05T22:35:20.456766Z",
     "start_time": "2019-03-05T22:35:20.446133Z"
    }
   },
   "outputs": [
    {
     "name": "stdout",
     "output_type": "stream",
     "text": [
      "  source target     type  value\n",
      "0  farm1   Mary   apples      5\n",
      "1  farm1  James   apples      3\n",
      "2  farm2   Fred   apples     10\n",
      "3  farm2   Fred  bananas     10\n",
      "4  farm2  Susan  bananas      5\n",
      "5  farm3  Susan   apples     10\n",
      "6  farm4  Susan  bananas      1\n",
      "7  farm5  Susan  bananas      1\n",
      "8  farm6  Susan  bananas      1\n"
     ]
    }
   ],
   "source": [
    "print(flows)"
   ]
  },
  {
   "cell_type": "code",
   "execution_count": 39,
   "metadata": {
    "ExecuteTime": {
     "end_time": "2019-03-05T22:35:23.764070Z",
     "start_time": "2019-03-05T22:35:23.584515Z"
    },
    "code_folding": [
     28,
     35,
     41,
     48
    ]
   },
   "outputs": [
    {
     "data": {
      "application/vnd.jupyter.widget-view+json": {
       "model_id": "c9c46d86ae86401e857bf14ba8c175a5",
       "version_major": 2,
       "version_minor": 0
      },
      "text/plain": [
       "SankeyWidget(groups=[{'id': 'farms', 'type': 'process', 'title': '', 'nodes': ['farms^organic', 'farms^non-org…"
      ]
     },
     "metadata": {},
     "output_type": "display_data"
    }
   ],
   "source": [
    "from floweaver import *\n",
    "\n",
    "# Set the default size to fit the documentation better.\n",
    "size = dict(width=1000, height=400)\n",
    "\n",
    "# Where does the flow go?\n",
    "nodes = {\n",
    "    'farms': ProcessGroup(\n",
    "        ['', 'farm2', 'farm3',\n",
    "         'farm4', 'farm5', 'farm6']),\n",
    "    \n",
    "    'customers': ProcessGroup(\n",
    "        ['James', 'Mary',\n",
    "         'Fred', 'Susan']),\n",
    "}\n",
    "\n",
    "# Order em'\n",
    "ordering = [\n",
    "    ['farms'],       # put \"farms\" on the left...\n",
    "    ['customers'],   # ... and \"customers\" on the right.\n",
    "]\n",
    "\n",
    "# Group em'\n",
    "bundles = [\n",
    "    Bundle('farms', \n",
    "           'customers'),\n",
    "]\n",
    "\n",
    "# Without partitions, everything will be stacked all vs all:\n",
    "\n",
    "farms_with_other = Partition.Simple('process', [\n",
    "    'farm1', # the groups within the partition can be a single id...\n",
    "    'farm2',\n",
    "    'farm3',\n",
    "    ('Other Farms', ['farm4', 'farm5', 'farm6']),   # ... or a group\n",
    "])\n",
    "\n",
    "farm_by_type = Partition.Simple('process',[\n",
    "                                ('organic',['farm1','farm3','farm5']),\n",
    "                                 ('non-organic',['farm2','farm4','farm6']),\n",
    "                                ])\n",
    "\n",
    "# This is another partition.\n",
    "customers_by_name = Partition.Simple('process', [\n",
    "    'James',\n",
    "    'Mary',\n",
    "    'Fred',\n",
    "    'Susan'\n",
    "])\n",
    "\n",
    "customers_by_gender = Partition.Simple('process', [\n",
    "    ('Men', ['Fred', 'James']), #Name yo groups...\n",
    "    ('Women', ['Susan', 'Mary']),\n",
    "])\n",
    "\n",
    "# Update the ProcessGroup nodes to use the partitions\n",
    "nodes['farms'].partition = farm_by_type\n",
    "nodes['customers'].partition = customers_by_name\n",
    "\n",
    "\n",
    "# create types to colorize and flow:\n",
    "fruits_by_type = Partition.Simple('type', ['apples', 'bananas'])\n",
    "\n",
    "\n",
    "# Set the colours for the labels in the partition.\n",
    "palette = {'apples': 'yellowgreen', 'bananas': 'orange'}\n",
    "\n",
    "\n",
    "\n",
    "\n",
    "# Create a waypoint:\n",
    "nodes['waypoint'] = Waypoint(fruits_by_type)\n",
    "\n",
    "if nodes['waypoint']:\n",
    "    # Update ordering\n",
    "    ordering = [\n",
    "        ['farms'],\n",
    "        ['waypoint'],\n",
    "        ['customers'],\n",
    "    ]\n",
    "\n",
    "    # Update bundle defintion\n",
    "    bundles = [\n",
    "        Bundle('farms', 'customers', waypoints=['waypoint']),\n",
    "    ]\n",
    "\n",
    "\n",
    "\n",
    "# Set the data\n",
    "sdd = SankeyDefinition(nodes, bundles, ordering, \n",
    "                       flow_partition=fruits_by_type)\n",
    "\n",
    "\n",
    "weave(sdd, flows, palette= palette).to_widget(**size).auto_save_png('quickstart_example1.png')"
   ]
  },
  {
   "cell_type": "markdown",
   "metadata": {},
   "source": [
    "# Use Your Own Data!\n",
    "<i>\n",
    "    This is an exciting opportunity to throw in some digital marketing variables and visualize!\n",
    "    \n",
    "</i>"
   ]
  },
  {
   "cell_type": "code",
   "execution_count": 50,
   "metadata": {
    "ExecuteTime": {
     "end_time": "2019-03-05T22:45:20.591249Z",
     "start_time": "2019-03-05T22:45:20.561724Z"
    },
    "code_folding": [
     1
    ]
   },
   "outputs": [],
   "source": [
    "# This is a dirty trick...\n",
    "df_dict = {\n",
    "    'source': {'OrgPlant PHASE2 Vegan Image': 'OrgPlant',\n",
    "    'OrgHabit PHASE2 Yogi Image': 'OrgHabit',\n",
    "    'OrgPlant PHASE2 BeautyLover Image': 'OrgPlant',\n",
    "    'MinHealth PHASE2 NoTarget Image': 'MinHealth',\n",
    "    'BeyHealth PHASE2 Yogi Image': 'BeyHealth',\n",
    "    'OrgPlant PHASE2 BoutiqueFitness Image': 'OrgPlant',\n",
    "    'OrgHealth PHASE2 DietFadBandwagon Image': 'OrgHealth',\n",
    "    'OrgHabit PHASE2 NoTarget Image': 'OrgHabit',\n",
    "    'Minimal PHASE1 YoungFitGirl Image': 'Minimal',\n",
    "    'Minimal PHASE1 Yogi Image': 'Minimal',\n",
    "    'BeyHabit PHASE2 DietFadBandwagon Image': 'BeyHabit',\n",
    "    'BeyHealth PHASE2 HipHopHeads Image': 'BeyHealth',\n",
    "    'Plant PHASE3 CorporateFinance Carousel': 'Plant',\n",
    "    'VegDarkM2 PHASE6 DietFadBandwagon Video': 'VegDarkM2',\n",
    "    'Pathos PHASE5 NoTarget Image': 'Pathos',\n",
    "    'Logos PHASE5 DietFadBandwagon Image': 'Logos',\n",
    "    'Bar(Logos) PHASE5 NoTarget Video': 'Bar(Logos)',\n",
    "    'Ethos PHASE5 DietFadBandwagon Image': 'Ethos',\n",
    "    'Pathos PHASE5 BoutiqueFitness Image': 'Pathos',\n",
    "    'Ethos PHASE5 Holistic Image': 'Ethos',\n",
    "    'Bar(Topos) PHASE5 BoutiqueFitness Video': 'Bar(Topos)',\n",
    "    'VegDarkM1 PHASE6 Holistic Video': 'VegDarkM1',\n",
    "    'BeyLong PHASE3 Yogi Video': 'BeyLong',\n",
    "    'BeyLong PHASE3 Holistic Video': 'BeyLong',\n",
    "    'Meta PHASE4 Holistic Video': 'Meta',\n",
    "    'Telos PHASE4 Sustainable Video': 'Telos',\n",
    "    'Plant PHASE3 BoutiqueFitness Carousel': 'Plant',\n",
    "    'Plant PHASE3 Holistic Carousel': 'Plant',\n",
    "    'Habit PHASE3 NoTarget Carousel': 'Habit',\n",
    "    'BeyShort PHASE3 FashionModels Video': 'BeyShort',\n",
    "    'BeyShort PHASE3 Sustainable Video': 'BeyShort',\n",
    "    'BeyShort PHASE3 BoutiqueFitness Video': 'BeyShort',\n",
    "    'Topos PHASE4 Sustainable Video': 'Topos',\n",
    "    'Telos PHASE4 Yogi Video': 'Telos',\n",
    "    'Human PHASE4 BoutiqueFitness Carousel': 'Human',\n",
    "    'Telos PHASE4 BoutiqueFitness Video': 'Telos',\n",
    "    'Meta PHASE4 BoutiqueFitness Video': 'Meta',\n",
    "    'Telos PHASE4 NoTarget Video': 'Telos',\n",
    "    'Topos PHASE4 NoTarget Video': 'Topos',\n",
    "    'Topos PHASE4 Yogi Video': 'Topos',\n",
    "    'Topos PHASE4 BoutiqueFitness Video': 'Topos',\n",
    "    'Topos PHASE4 DietFadBandwagon Video': 'Topos',\n",
    "    'Meta PHASE4 NoTarget Video': 'Meta',\n",
    "    'Logos PHASE4 BoutiqueFitness Video': 'Logos',\n",
    "    'Logos PHASE4 NoTarget Video': 'Logos',\n",
    "    'Telos PHASE4 DietFadBandwagon Video': 'Telos'},\n",
    "    'type': {'OrgPlant PHASE2 Vegan Image': 'Image',\n",
    "    'OrgHabit PHASE2 Yogi Image': 'Image',\n",
    "    'OrgPlant PHASE2 BeautyLover Image': 'Image',\n",
    "    'MinHealth PHASE2 NoTarget Image': 'Image',\n",
    "    'BeyHealth PHASE2 Yogi Image': 'Image',\n",
    "    'OrgPlant PHASE2 BoutiqueFitness Image': 'Image',\n",
    "    'OrgHealth PHASE2 DietFadBandwagon Image': 'Image',\n",
    "    'OrgHabit PHASE2 NoTarget Image': 'Image',\n",
    "    'Minimal PHASE1 YoungFitGirl Image': 'Image',\n",
    "    'Minimal PHASE1 Yogi Image': 'Image',\n",
    "    'BeyHabit PHASE2 DietFadBandwagon Image': 'Image',\n",
    "    'BeyHealth PHASE2 HipHopHeads Image': 'Image',\n",
    "    'Plant PHASE3 CorporateFinance Carousel': 'Carousel',\n",
    "    'VegDarkM2 PHASE6 DietFadBandwagon Video': 'Video',\n",
    "    'Pathos PHASE5 NoTarget Image': 'Image',\n",
    "    'Logos PHASE5 DietFadBandwagon Image': 'Image',\n",
    "    'Bar(Logos) PHASE5 NoTarget Video': 'Video',\n",
    "    'Ethos PHASE5 DietFadBandwagon Image': 'Image',\n",
    "    'Pathos PHASE5 BoutiqueFitness Image': 'Image',\n",
    "    'Ethos PHASE5 Holistic Image': 'Image',\n",
    "    'Bar(Topos) PHASE5 BoutiqueFitness Video': 'Video',\n",
    "    'VegDarkM1 PHASE6 Holistic Video': 'Video',\n",
    "    'BeyLong PHASE3 Yogi Video': 'Video',\n",
    "    'BeyLong PHASE3 Holistic Video': 'Video',\n",
    "    'Meta PHASE4 Holistic Video': 'Video',\n",
    "    'Telos PHASE4 Sustainable Video': 'Video',\n",
    "    'Plant PHASE3 BoutiqueFitness Carousel': 'Carousel',\n",
    "    'Plant PHASE3 Holistic Carousel': 'Carousel',\n",
    "    'Habit PHASE3 NoTarget Carousel': 'Carousel',\n",
    "    'BeyShort PHASE3 FashionModels Video': 'Video',\n",
    "    'BeyShort PHASE3 Sustainable Video': 'Video',\n",
    "    'BeyShort PHASE3 BoutiqueFitness Video': 'Video',\n",
    "    'Topos PHASE4 Sustainable Video': 'Video',\n",
    "    'Telos PHASE4 Yogi Video': 'Video',\n",
    "    'Human PHASE4 BoutiqueFitness Carousel': 'Carousel',\n",
    "    'Telos PHASE4 BoutiqueFitness Video': 'Video',\n",
    "    'Meta PHASE4 BoutiqueFitness Video': 'Video',\n",
    "    'Telos PHASE4 NoTarget Video': 'Video',\n",
    "    'Topos PHASE4 NoTarget Video': 'Video',\n",
    "    'Topos PHASE4 Yogi Video': 'Video',\n",
    "    'Topos PHASE4 BoutiqueFitness Video': 'Video',\n",
    "    'Topos PHASE4 DietFadBandwagon Video': 'Video',\n",
    "    'Meta PHASE4 NoTarget Video': 'Video',\n",
    "    'Logos PHASE4 BoutiqueFitness Video': 'Video',\n",
    "    'Logos PHASE4 NoTarget Video': 'Video',\n",
    "    'Telos PHASE4 DietFadBandwagon Video': 'Video'},\n",
    "    'target': {'OrgPlant PHASE2 Vegan Image': 2,\n",
    "    'OrgHabit PHASE2 Yogi Image': 2,\n",
    "    'OrgPlant PHASE2 BeautyLover Image': 2,\n",
    "    'MinHealth PHASE2 NoTarget Image': 0,\n",
    "    'BeyHealth PHASE2 Yogi Image': 3,\n",
    "    'OrgPlant PHASE2 BoutiqueFitness Image': 0,\n",
    "    'OrgHealth PHASE2 DietFadBandwagon Image': 0,\n",
    "    'OrgHabit PHASE2 NoTarget Image': 0,\n",
    "    'Minimal PHASE1 YoungFitGirl Image': 2,\n",
    "    'Minimal PHASE1 Yogi Image': 0,\n",
    "    'BeyHabit PHASE2 DietFadBandwagon Image': 3,\n",
    "    'BeyHealth PHASE2 HipHopHeads Image': 4,\n",
    "    'Plant PHASE3 CorporateFinance Carousel': 0,\n",
    "    'VegDarkM2 PHASE6 DietFadBandwagon Video': 2,\n",
    "    'Pathos PHASE5 NoTarget Image': 0,\n",
    "    'Logos PHASE5 DietFadBandwagon Image': 2,\n",
    "    'Bar(Logos) PHASE5 NoTarget Video': 3,\n",
    "    'Ethos PHASE5 DietFadBandwagon Image': 2,\n",
    "    'Pathos PHASE5 BoutiqueFitness Image': 2,\n",
    "    'Ethos PHASE5 Holistic Image': 2,\n",
    "    'Bar(Topos) PHASE5 BoutiqueFitness Video': 3,\n",
    "    'VegDarkM1 PHASE6 Holistic Video': 0,\n",
    "    'BeyLong PHASE3 Yogi Video': 3,\n",
    "    'BeyLong PHASE3 Holistic Video': 1,\n",
    "    'Meta PHASE4 Holistic Video': 1,\n",
    "    'Telos PHASE4 Sustainable Video': 1,\n",
    "    'Plant PHASE3 BoutiqueFitness Carousel': 2,\n",
    "    'Plant PHASE3 Holistic Carousel': 2,\n",
    "    'Habit PHASE3 NoTarget Carousel': 0,\n",
    "    'BeyShort PHASE3 FashionModels Video': 3,\n",
    "    'BeyShort PHASE3 Sustainable Video': 3,\n",
    "    'BeyShort PHASE3 BoutiqueFitness Video': 3,\n",
    "    'Topos PHASE4 Sustainable Video': 1,\n",
    "    'Telos PHASE4 Yogi Video': 1,\n",
    "    'Human PHASE4 BoutiqueFitness Carousel': 0,\n",
    "    'Telos PHASE4 BoutiqueFitness Video': 3,\n",
    "    'Meta PHASE4 BoutiqueFitness Video': 1,\n",
    "    'Telos PHASE4 NoTarget Video': 4,\n",
    "    'Topos PHASE4 NoTarget Video': 3,\n",
    "    'Topos PHASE4 Yogi Video': 1,\n",
    "    'Topos PHASE4 BoutiqueFitness Video': 1,\n",
    "    'Topos PHASE4 DietFadBandwagon Video': 1,\n",
    "    'Meta PHASE4 NoTarget Video': 3,\n",
    "    'Logos PHASE4 BoutiqueFitness Video': 4,\n",
    "    'Logos PHASE4 NoTarget Video': 4,\n",
    "    'Telos PHASE4 DietFadBandwagon Video': 3},\n",
    "    'value': {'OrgPlant PHASE2 Vegan Image': 1,\n",
    "    'OrgHabit PHASE2 Yogi Image': 1,\n",
    "    'OrgPlant PHASE2 BeautyLover Image': 1,\n",
    "    'MinHealth PHASE2 NoTarget Image': 1,\n",
    "    'BeyHealth PHASE2 Yogi Image': 1,\n",
    "    'OrgPlant PHASE2 BoutiqueFitness Image': 1,\n",
    "    'OrgHealth PHASE2 DietFadBandwagon Image': 1,\n",
    "    'OrgHabit PHASE2 NoTarget Image': 1,\n",
    "    'Minimal PHASE1 YoungFitGirl Image': 1,\n",
    "    'Minimal PHASE1 Yogi Image': 1,\n",
    "    'BeyHabit PHASE2 DietFadBandwagon Image': 1,\n",
    "    'BeyHealth PHASE2 HipHopHeads Image': 1,\n",
    "    'Plant PHASE3 CorporateFinance Carousel': 1,\n",
    "    'VegDarkM2 PHASE6 DietFadBandwagon Video': 1,\n",
    "    'Pathos PHASE5 NoTarget Image': 1,\n",
    "    'Logos PHASE5 DietFadBandwagon Image': 1,\n",
    "    'Bar(Logos) PHASE5 NoTarget Video': 1,\n",
    "    'Ethos PHASE5 DietFadBandwagon Image': 1,\n",
    "    'Pathos PHASE5 BoutiqueFitness Image': 1,\n",
    "    'Ethos PHASE5 Holistic Image': 1,\n",
    "    'Bar(Topos) PHASE5 BoutiqueFitness Video': 1,\n",
    "    'VegDarkM1 PHASE6 Holistic Video': 1,\n",
    "    'BeyLong PHASE3 Yogi Video': 1,\n",
    "    'BeyLong PHASE3 Holistic Video': 1,\n",
    "    'Meta PHASE4 Holistic Video': 1,\n",
    "    'Telos PHASE4 Sustainable Video': 1,\n",
    "    'Plant PHASE3 BoutiqueFitness Carousel': 1,\n",
    "    'Plant PHASE3 Holistic Carousel': 1,\n",
    "    'Habit PHASE3 NoTarget Carousel': 1,\n",
    "    'BeyShort PHASE3 FashionModels Video': 1,\n",
    "    'BeyShort PHASE3 Sustainable Video': 1,\n",
    "    'BeyShort PHASE3 BoutiqueFitness Video': 1,\n",
    "    'Topos PHASE4 Sustainable Video': 1,\n",
    "    'Telos PHASE4 Yogi Video': 1,\n",
    "    'Human PHASE4 BoutiqueFitness Carousel': 1,\n",
    "    'Telos PHASE4 BoutiqueFitness Video': 1,\n",
    "    'Meta PHASE4 BoutiqueFitness Video': 1,\n",
    "    'Telos PHASE4 NoTarget Video': 1,\n",
    "    'Topos PHASE4 NoTarget Video': 1,\n",
    "    'Topos PHASE4 Yogi Video': 1,\n",
    "    'Topos PHASE4 BoutiqueFitness Video': 1,\n",
    "    'Topos PHASE4 DietFadBandwagon Video': 1,\n",
    "    'Meta PHASE4 NoTarget Video': 1,\n",
    "    'Logos PHASE4 BoutiqueFitness Video': 1,\n",
    "    'Logos PHASE4 NoTarget Video': 1,\n",
    "    'Telos PHASE4 DietFadBandwagon Video': 1}\n",
    "}"
   ]
  },
  {
   "cell_type": "code",
   "execution_count": 60,
   "metadata": {
    "ExecuteTime": {
     "end_time": "2019-03-05T22:47:53.017400Z",
     "start_time": "2019-03-05T22:47:53.006760Z"
    }
   },
   "outputs": [],
   "source": [
    "df_1 = pd.DataFrame(df_dict)\n",
    "df_sankey = df_1.copy(deep=True)"
   ]
  },
  {
   "cell_type": "code",
   "execution_count": 61,
   "metadata": {
    "ExecuteTime": {
     "end_time": "2019-03-05T22:47:54.892031Z",
     "start_time": "2019-03-05T22:47:54.561210Z"
    }
   },
   "outputs": [
    {
     "data": {
      "application/vnd.jupyter.widget-view+json": {
       "model_id": "d10b839c89c540508ee9c9f6825889c5",
       "version_major": 2,
       "version_minor": 0
      },
      "text/plain": [
       "SankeyWidget(groups=[{'id': 'V1', 'type': 'process', 'title': '', 'nodes': ['V1^Bar(Logos)', 'V1^Bar(Topos)', …"
      ]
     },
     "metadata": {},
     "output_type": "display_data"
    }
   ],
   "source": [
    "# Set the default size to fit the documentation better.\n",
    "size = dict(width=1000, height=400)\n",
    "\n",
    " \n",
    "# Where does the flow go?\n",
    "nodes = {\n",
    "     'V1': fw.ProcessGroup([x for x in df_sankey.source.unique()]),\n",
    "     \n",
    "     'Cluster': fw.ProcessGroup([x for x in df_sankey.target.unique()]),\n",
    "    \n",
    "}\n",
    "\n",
    "# Order em'\n",
    "ordering = [\n",
    "    ['V1'],       # put \"farms\" on the left...\n",
    "    ['Cluster'],   # ... and \"customers\" on the right.\n",
    "]\n",
    "\n",
    "# # Group em'\n",
    "bundles = [\n",
    "    fw.Bundle('V1', \n",
    "           'Cluster'),\n",
    " ]\n",
    "\n",
    "# # Without partitions, everything will be stacked all vs all:\n",
    "\n",
    "V1_by_x = fw.Partition.Simple('process', [x for x in df_sankey.source.unique()])\n",
    "\n",
    "# farm_by_type = fw.Partition.Simple('process',[\n",
    "#                                 ('organic',['farm1','farm3','farm5']),\n",
    "#                                  ('non-organic',['farm2','farm4','farm6']),\n",
    "#                                 ])\n",
    "\n",
    "# # This is another partition.\n",
    "Cluster_by_x = Cluster_Partition = fw.Partition.Simple('process',[ \n",
    "                                   ('winner',['4']),\n",
    "                                    ('runner up',['2']),\n",
    "                                    ('loser',['0','1']),\n",
    "                                 ('mega-loser',['3'])\n",
    "                                ])\n",
    "\n",
    "\n",
    "# # Update the ProcessGroup nodes to use the partitions\n",
    "nodes['V1'].partition = V1_by_x\n",
    "nodes['Cluster'].partition = Cluster_by_x\n",
    "\n",
    "\n",
    "# create types to colorize and flow:\n",
    "media_type = fw.Partition.Simple('type', ['Image', 'Video','Carousel'])\n",
    "\n",
    "# Set the colours for the labels in the partition.\n",
    "palette = {'Carousel':'grey','Image': 'yellowgreen', 'Video': 'orange'}\n",
    "\n",
    "\n",
    "\n",
    "\n",
    "# Create a waypoint:\n",
    "nodes['waypoint'] = fw.Waypoint(media_type)\n",
    "\n",
    "\n",
    "if nodes['waypoint']:\n",
    "    # Update ordering\n",
    "    ordering = [\n",
    "        ['V1'],\n",
    "        ['waypoint'],\n",
    "        ['Cluster'],\n",
    "    ]\n",
    "\n",
    "    # Update bundle defintion\n",
    "    bundles = [\n",
    "        fw.Bundle('V1', 'Cluster', waypoints=['waypoint']),\n",
    "    ]\n",
    "\n",
    "\n",
    "\n",
    "# Set the data\n",
    "sdd = fw.SankeyDefinition(nodes, bundles, ordering, \n",
    "                       flow_partition=media_type)\n",
    "\n",
    "\n",
    "fw.weave(sdd, df_sankey, palette= palette).to_widget(**size) #.auto_save_png('quickstart_example1.png')"
   ]
  }
 ],
 "metadata": {
  "kernelspec": {
   "display_name": "Python 3",
   "language": "python",
   "name": "python3"
  },
  "language_info": {
   "codemirror_mode": {
    "name": "ipython",
    "version": 3
   },
   "file_extension": ".py",
   "mimetype": "text/x-python",
   "name": "python",
   "nbconvert_exporter": "python",
   "pygments_lexer": "ipython3",
   "version": "3.7.0"
  },
  "toc": {
   "base_numbering": 1,
   "nav_menu": {},
   "number_sections": true,
   "sideBar": true,
   "skip_h1_title": false,
   "title_cell": "Table of Contents",
   "title_sidebar": "Contents",
   "toc_cell": false,
   "toc_position": {},
   "toc_section_display": true,
   "toc_window_display": false
  }
 },
 "nbformat": 4,
 "nbformat_minor": 2
}
